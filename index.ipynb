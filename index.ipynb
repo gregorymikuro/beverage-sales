{
 "cells": [
  {
   "cell_type": "markdown",
   "metadata": {},
   "source": [
    "# Business Undersatnding"
   ]
  },
  {
   "cell_type": "markdown",
   "metadata": {},
   "source": [
    "## Overview"
   ]
  },
  {
   "cell_type": "markdown",
   "metadata": {},
   "source": []
  },
  {
   "cell_type": "markdown",
   "metadata": {},
   "source": [
    "## Business Problem"
   ]
  },
  {
   "cell_type": "markdown",
   "metadata": {},
   "source": [
    "With limited data visibility across your operations, your company lacks insights needed for strategic decision-making. The current system doesn't provide adequate analytics on sales performance, customer behavior, product popularity, and regional trends, making it difficult to optimize inventory, pricing strategies, and customer relationships. This data gap prevents you from identifying growth opportunities and addressing operational inefficiencies."
   ]
  },
  {
   "cell_type": "markdown",
   "metadata": {},
   "source": [
    "## Objectives"
   ]
  },
  {
   "cell_type": "markdown",
   "metadata": {},
   "source": [
    "### Specific Objectives"
   ]
  },
  {
   "cell_type": "markdown",
   "metadata": {},
   "source": [
    "Implement a comprehensive data analytics system to track and analyze sales performance across products, customers, and regions"
   ]
  },
  {
   "cell_type": "markdown",
   "metadata": {},
   "source": [
    "### Objectives"
   ]
  },
  {
   "cell_type": "markdown",
   "metadata": {},
   "source": [
    "- Data Cleaning: Standardize and preprocess the sales data to ensure accuracy, completeness, and consistency\n",
    "- Data Analysis: Perform exploratory data analysis to uncover patterns, trends, and relationships within the sales data\n",
    "- Data Visualization: Create meaningful visual representations of the data to communicate insights effectively\n",
    "- Modeling: Develop predictive models to forecast sales trends, customer behavior, and product performance\n",
    "- Evaluation: Assess the performance and accuracy of the developed models\n",
    "Deployment: Implement the models and insights into business operations for continuous improvement"
   ]
  },
  {
   "cell_type": "markdown",
   "metadata": {},
   "source": [
    "# Data Understanding"
   ]
  },
  {
   "cell_type": "markdown",
   "metadata": {},
   "source": [
    "## Data Source\n",
    "The dataset was collected from Kaggle, a popular platform for data science competitions and datasets. The dataset appears to contain transaction records for a beverage distribution business, focusing on sales of water products to business customers.\n",
    "\n",
    "## Data Structure\n",
    "The dataset contains the following fields:\n",
    "\n",
    "- Order_ID: Unique identifier for each order (e.g., \"ORD1\")\n",
    "- Customer_ID: Unique identifier for each customer (e.g., \"CUS1496\")\n",
    "- Customer_Type: Classification of customer (e.g., \"B2B\" for business-to-business)\n",
    "- Product: Name of the product sold (e.g., \"Vio Wasser\", \"Evian\")\n",
    "- Category: Product category (e.g., \"Water\")\n",
    "- Unit_Price: Price per unit of the product (e.g., 1.6, 1.5)\n",
    "- Quantity: Number of units ordered (e.g., 53, 90)\n",
    "- Discount: Discount rate applied to the order (e.g., 0.1 or 10%)\n",
    "- Total_Price: Final price after applying discount (e.g., 79.18, 126.36)\n",
    "- Region: Geographic location of the sale (e.g., \"Baden-Württemberg\")\n",
    "- Order_Date: Date when the order was placed (e.g., \"2023-08-23\")"
   ]
  },
  {
   "cell_type": "code",
   "execution_count": 16,
   "metadata": {},
   "outputs": [],
   "source": [
    "import pandas as pd\n",
    "import numpy as np\n",
    "import matplotlib.pyplot as plt\n",
    "import seaborn as sns"
   ]
  },
  {
   "cell_type": "code",
   "execution_count": 8,
   "metadata": {},
   "outputs": [
    {
     "data": {
      "text/html": [
       "<div>\n",
       "<style scoped>\n",
       "    .dataframe tbody tr th:only-of-type {\n",
       "        vertical-align: middle;\n",
       "    }\n",
       "\n",
       "    .dataframe tbody tr th {\n",
       "        vertical-align: top;\n",
       "    }\n",
       "\n",
       "    .dataframe thead th {\n",
       "        text-align: right;\n",
       "    }\n",
       "</style>\n",
       "<table border=\"1\" class=\"dataframe\">\n",
       "  <thead>\n",
       "    <tr style=\"text-align: right;\">\n",
       "      <th></th>\n",
       "      <th>Order_ID</th>\n",
       "      <th>Customer_ID</th>\n",
       "      <th>Customer_Type</th>\n",
       "      <th>Product</th>\n",
       "      <th>Category</th>\n",
       "      <th>Unit_Price</th>\n",
       "      <th>Quantity</th>\n",
       "      <th>Discount</th>\n",
       "      <th>Total_Price</th>\n",
       "      <th>Region</th>\n",
       "      <th>Order_Date</th>\n",
       "    </tr>\n",
       "  </thead>\n",
       "  <tbody>\n",
       "    <tr>\n",
       "      <th>0</th>\n",
       "      <td>ORD1</td>\n",
       "      <td>CUS1496</td>\n",
       "      <td>B2B</td>\n",
       "      <td>Vio Wasser</td>\n",
       "      <td>Water</td>\n",
       "      <td>1.66</td>\n",
       "      <td>53</td>\n",
       "      <td>0.10</td>\n",
       "      <td>79.18</td>\n",
       "      <td>Baden-WÃ¼rttemberg</td>\n",
       "      <td>2023-08-23</td>\n",
       "    </tr>\n",
       "    <tr>\n",
       "      <th>1</th>\n",
       "      <td>ORD1</td>\n",
       "      <td>CUS1496</td>\n",
       "      <td>B2B</td>\n",
       "      <td>Evian</td>\n",
       "      <td>Water</td>\n",
       "      <td>1.56</td>\n",
       "      <td>90</td>\n",
       "      <td>0.10</td>\n",
       "      <td>126.36</td>\n",
       "      <td>Baden-WÃ¼rttemberg</td>\n",
       "      <td>2023-08-23</td>\n",
       "    </tr>\n",
       "    <tr>\n",
       "      <th>2</th>\n",
       "      <td>ORD1</td>\n",
       "      <td>CUS1496</td>\n",
       "      <td>B2B</td>\n",
       "      <td>Sprite</td>\n",
       "      <td>Soft Drinks</td>\n",
       "      <td>1.17</td>\n",
       "      <td>73</td>\n",
       "      <td>0.05</td>\n",
       "      <td>81.14</td>\n",
       "      <td>Baden-WÃ¼rttemberg</td>\n",
       "      <td>2023-08-23</td>\n",
       "    </tr>\n",
       "    <tr>\n",
       "      <th>3</th>\n",
       "      <td>ORD1</td>\n",
       "      <td>CUS1496</td>\n",
       "      <td>B2B</td>\n",
       "      <td>Rauch Multivitamin</td>\n",
       "      <td>Juices</td>\n",
       "      <td>3.22</td>\n",
       "      <td>59</td>\n",
       "      <td>0.10</td>\n",
       "      <td>170.98</td>\n",
       "      <td>Baden-WÃ¼rttemberg</td>\n",
       "      <td>2023-08-23</td>\n",
       "    </tr>\n",
       "    <tr>\n",
       "      <th>4</th>\n",
       "      <td>ORD1</td>\n",
       "      <td>CUS1496</td>\n",
       "      <td>B2B</td>\n",
       "      <td>Gerolsteiner</td>\n",
       "      <td>Water</td>\n",
       "      <td>0.87</td>\n",
       "      <td>35</td>\n",
       "      <td>0.10</td>\n",
       "      <td>27.40</td>\n",
       "      <td>Baden-WÃ¼rttemberg</td>\n",
       "      <td>2023-08-23</td>\n",
       "    </tr>\n",
       "  </tbody>\n",
       "</table>\n",
       "</div>"
      ],
      "text/plain": [
       "  Order_ID Customer_ID Customer_Type             Product     Category  \\\n",
       "0     ORD1     CUS1496           B2B          Vio Wasser        Water   \n",
       "1     ORD1     CUS1496           B2B               Evian        Water   \n",
       "2     ORD1     CUS1496           B2B              Sprite  Soft Drinks   \n",
       "3     ORD1     CUS1496           B2B  Rauch Multivitamin       Juices   \n",
       "4     ORD1     CUS1496           B2B        Gerolsteiner        Water   \n",
       "\n",
       "   Unit_Price  Quantity  Discount  Total_Price              Region  Order_Date  \n",
       "0        1.66        53      0.10        79.18  Baden-WÃ¼rttemberg  2023-08-23  \n",
       "1        1.56        90      0.10       126.36  Baden-WÃ¼rttemberg  2023-08-23  \n",
       "2        1.17        73      0.05        81.14  Baden-WÃ¼rttemberg  2023-08-23  \n",
       "3        3.22        59      0.10       170.98  Baden-WÃ¼rttemberg  2023-08-23  \n",
       "4        0.87        35      0.10        27.40  Baden-WÃ¼rttemberg  2023-08-23  "
      ]
     },
     "execution_count": 8,
     "metadata": {},
     "output_type": "execute_result"
    }
   ],
   "source": [
    "class DataUnderstanding():\n",
    "    \"\"\"This class provides the understanding of the dataset\"\"\"\n",
    "    def __init__(self, data = None):\n",
    "        \"\"\"Initialization\"\"\"\n",
    "        self.df = data\n",
    "\n",
    "    def load_data(self, path):\n",
    "        \"\"\"Load Data\"\"\"\n",
    "        if self.df is None:\n",
    "            self.df = pd.read_csv(path, encoding='latin1')\n",
    "        return self.df\n",
    "    \n",
    "    def understanding(self):\n",
    "        \"\"\"Provides the understanding of the dataset\"\"\"\n",
    "        print (\"INFO\")\n",
    "        print(\"-\"*8)\n",
    "        self.df.info()\n",
    "\n",
    "        print(\"STATISTICAL SUMMARY\")\n",
    "        print(\"-\" *8)\n",
    "        self.df.describe()\n",
    "\n",
    "        print(\"SHAPE\")\n",
    "        print(\"-\"*8)\n",
    "        print(f\"Records in the dataset: {self.df.shape[0]} with {self.df.shape[1]} columns.\")\n",
    "\n",
    "\n",
    "        print(\"MISSING\")\n",
    "        print(\"-\"*8)\n",
    "        for col in self.df.columns:\n",
    "            print(f\"Column {col} has {self.df[col].isnull().sum()} missing values\")\n",
    "\n",
    "        print(\"DUPLICATE VALUES\")\n",
    "        print(\"-\"*8)\n",
    "        print(f\"The dataset has {self.df.duplicated().sum()} duplicate records\")\n",
    "\n",
    "data = DataUnderstanding() \n",
    "path = \"synthetic_beverage_sales_data.csv\"\n",
    "df = data.load_data(path)\n",
    "df.head()\n"
   ]
  },
  {
   "cell_type": "code",
   "execution_count": 9,
   "metadata": {},
   "outputs": [
    {
     "name": "stdout",
     "output_type": "stream",
     "text": [
      "INFO\n",
      "--------\n",
      "<class 'pandas.core.frame.DataFrame'>\n",
      "RangeIndex: 8999910 entries, 0 to 8999909\n",
      "Data columns (total 11 columns):\n",
      " #   Column         Dtype  \n",
      "---  ------         -----  \n",
      " 0   Order_ID       object \n",
      " 1   Customer_ID    object \n",
      " 2   Customer_Type  object \n",
      " 3   Product        object \n",
      " 4   Category       object \n",
      " 5   Unit_Price     float64\n",
      " 6   Quantity       int64  \n",
      " 7   Discount       float64\n",
      " 8   Total_Price    float64\n",
      " 9   Region         object \n",
      " 10  Order_Date     object \n",
      "dtypes: float64(3), int64(1), object(7)\n",
      "memory usage: 755.3+ MB\n",
      "STATISTICAL SUMMARY\n",
      "--------\n",
      "SHAPE\n",
      "--------\n",
      "Records in the dataset: 8999910 with 11 columns.\n",
      "MISSING\n",
      "--------\n",
      "Column Order_ID has 0 missing values\n",
      "Column Customer_ID has 0 missing values\n",
      "Column Customer_Type has 0 missing values\n",
      "Column Product has 0 missing values\n",
      "Column Category has 0 missing values\n",
      "Column Unit_Price has 0 missing values\n",
      "Column Quantity has 0 missing values\n",
      "Column Discount has 0 missing values\n",
      "Column Total_Price has 0 missing values\n",
      "Column Region has 0 missing values\n",
      "Column Order_Date has 0 missing values\n",
      "DUPLICATE VALUES\n",
      "--------\n",
      "The dataset has 0 duplicate records\n"
     ]
    }
   ],
   "source": [
    "data.understanding()"
   ]
  },
  {
   "cell_type": "markdown",
   "metadata": {},
   "source": [
    "## Data Preprocessing"
   ]
  },
  {
   "cell_type": "markdown",
   "metadata": {},
   "source": [
    "### Data Cleaning"
   ]
  },
  {
   "cell_type": "code",
   "execution_count": 8,
   "metadata": {},
   "outputs": [
    {
     "data": {
      "text/plain": [
       "Order_ID         0\n",
       "Customer_ID      0\n",
       "Customer_Type    0\n",
       "Product          0\n",
       "Category         0\n",
       "Unit_Price       0\n",
       "Quantity         0\n",
       "Discount         0\n",
       "Total_Price      0\n",
       "Region           0\n",
       "Order_Date       0\n",
       "dtype: int64"
      ]
     },
     "execution_count": 8,
     "metadata": {},
     "output_type": "execute_result"
    }
   ],
   "source": [
    "#Checking  for null values\n",
    "df.isna().sum()"
   ]
  },
  {
   "cell_type": "markdown",
   "metadata": {},
   "source": [
    "The dataset has no missing values"
   ]
  },
  {
   "cell_type": "code",
   "execution_count": 10,
   "metadata": {},
   "outputs": [
    {
     "data": {
      "text/plain": [
       "np.int64(0)"
      ]
     },
     "execution_count": 10,
     "metadata": {},
     "output_type": "execute_result"
    }
   ],
   "source": [
    "df.duplicated().sum()"
   ]
  },
  {
   "cell_type": "markdown",
   "metadata": {},
   "source": [
    "The dataset has no duplicates"
   ]
  },
  {
   "cell_type": "markdown",
   "metadata": {},
   "source": [
    "### Data visualization"
   ]
  },
  {
   "cell_type": "code",
   "execution_count": 24,
   "metadata": {},
   "outputs": [
    {
     "data": {
      "text/plain": [
       "<Figure size 1000x1000 with 0 Axes>"
      ]
     },
     "metadata": {},
     "output_type": "display_data"
    },
    {
     "data": {
      "image/png": "[encoded data removed]",
      "text/plain": [
       "<Figure size 640x480 with 4 Axes>"
      ]
     },
     "metadata": {},
     "output_type": "display_data"
    }
   ],
   "source": [
    "ax =sns.set_context(\"paper\")\n",
    "# plt.style.use(\"fivethirtyeight\")\n",
    "ax = plt.figure(figsize = (10, 10))\n",
    "# ax = plt.title(\"Histogram for Numerial Columns\")\n",
    "\n",
    "ax = df.hist();"
   ]
  },
  {
   "cell_type": "code",
   "execution_count": null,
   "metadata": {},
   "outputs": [],
   "source": [
    "class DataVisualizatio"
   ]
  }
 ],
 "metadata": {
  "kernelspec": {
   "display_name": "myenv",
   "language": "python",
   "name": "python3"
  },
  "language_info": {
   "codemirror_mode": {
    "name": "ipython",
    "version": 3
   },
   "file_extension": ".py",
   "mimetype": "text/x-python",
   "name": "python",
   "nbconvert_exporter": "python",
   "pygments_lexer": "ipython3",
   "version": "3.9.13"
  }
 },
 "nbformat": 4,
 "nbformat_minor": 2
}
